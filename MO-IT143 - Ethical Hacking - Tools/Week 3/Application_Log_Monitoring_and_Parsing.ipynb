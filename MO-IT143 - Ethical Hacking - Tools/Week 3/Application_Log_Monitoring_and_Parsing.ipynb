{
 "cells": [
  {
   "cell_type": "markdown",
   "id": "3ff04678",
   "metadata": {},
   "source": [
    "# Application Log Monitoring and Parsing using Python\n",
    "\n",
    "Inspired by Jackson Chan's article, this notebook demonstrates how to use Python and regular expressions to parse application log files, identify errors and warnings, and extract meaningful information.\n",
    "\n",
    "We will:\n",
    "1. Set up necessary libraries.\n",
    "2. Create sample log files (based on the article's examples).\n",
    "3. Implement the Python parsing script.\n",
    "4. Run the script on the sample logs.\n",
    "5. Examine the output.\n",
    "6. Briefly discuss next steps for `log2.txt` and `log3.txt`."
   ]
  },
  {
   "cell_type": "code",
   "execution_count": 1,
   "id": "59cd89f8",
   "metadata": {},
   "outputs": [
    {
     "name": "stdout",
     "output_type": "stream",
     "text": [
      "Libraries imported successfully.\n"
     ]
    }
   ],
   "source": [
    "import re\n",
    "import csv  # For future CSV output enhancements\n",
    "import os   # For file operations\n",
    "\n",
    "print(\"Libraries imported successfully.\")"
   ]
  },
  {
   "cell_type": "markdown",
   "id": "ed8a74b1",
   "metadata": {},
   "source": [
    "## 1. Preparing Sample Log Data\n",
    "\n",
    "For this demonstration, we'll create `log1.txt` based on the content and structure described in the article. In a real scenario, you would point the script to your actual log files.\n",
    "\n",
    "The article also mentions `log2.txt` and `log3.txt` are available on GitHub: [https://github.com/jacksonsiachan/sample_logs](https://github.com/jacksonsiachan/sample_logs)\n",
    "\n",
    "For self-containment, we will create `log1.txt` here. You can download `log2.txt` and `log3.txt` and place them in the same directory as this notebook to analyze them later."
   ]
  },
  {
   "cell_type": "code",
   "execution_count": 2,
   "id": "6cfa0f7a",
   "metadata": {},
   "outputs": [
    {
     "name": "stdout",
     "output_type": "stream",
     "text": [
      "log1.txt created successfully.\n"
     ]
    }
   ],
   "source": [
    "log1_content = \"\"\"\n",
    "time=\"2020-03-18T14:40:29Z\" level=info msg=\"Starting application services\" file=\"main.go:30\" func=\"main.main\" kind=application\n",
    "time=\"2020-03-18T14:40:30Z\" level=info msg=\"Initialising database connection\" file=\"corp/application1/database.go:55\" func=\"corp/application1.ConnectDB\" kind=database\n",
    "time=\"2020-03-18T14:40:30Z\" level=error msg=\"Database stream initialisation failed. Have you tried installing the WAL2JASON plugin?\" file=\"corp/application1/task1.go:96\" func=\"corp/application1/task1.Dblogger\" kind=application\n",
    "time=\"2020-03-18T14:40:31Z\" level=info msg=\"Attempting to connect to external services\" file=\"corp/application1/task1.go:98\" func=\"corp/application1/task1.Dblogger\" kind=application\n",
    "time=\"2020-03-18T14:40:31Z\" level=warning msg=\"Connection to hostA.local failed: host unreachable\" file=\"corp/application1/task1.go:100\" func=\"corp/application1/task1.Dblogger\" kind=application\n",
    "time=\"2020-03-18T14:40:31Z\" level=warning msg=\"Connection to hostA.local failed: host unreachable\" file=\"corp/application1/task1.go:102\" func=\"corp/application1/task1.Dblogger\" kind=application\n",
    "time=\"2020-03-18T14:40:31Z\" level=warning msg=\"Connection to hostB.local failed: Could not resolve host\" file=\"corp/application1/task1.go:104\" func=\"corp/application1/task1.Dblogger\" kind=application\n",
    "time=\"2020-03-18T14:40:35Z\" level=info msg=\"Successfully connected to hostC.local\" file=\"corp/application1/task1.go:106\" func=\"corp/application1/task1.Dblogger\" kind=application\n",
    "time=\"2020-03-18T14:40:38Z\" level=warning msg=\"Failed to write record, duplicate key violation for primary key\" file=\"corp/interviews/application1/task1.go:114\" func=\"corp/application1/task1.Dblogger\" kind=application\n",
    "time=\"2020-03-18T14:40:39Z\" level=info msg=\"User 'jchan' logged in successfully\" file=\"auth.go:120\" func=\"auth.Login\" kind=security\n",
    "time=\"2020-03-18T14:40:40Z\" level=warning msg=\"Archiving data source: old_records_2019\" file=\"archive.go:70\" func=\"archive.Run\" kind=system\n",
    "\"\"\"\n",
    "\n",
    "with open(\"log1.txt\", \"w\") as f:\n",
    "    f.write(log1_content.strip())\n",
    "\n",
    "print(\"log1.txt created successfully.\")"
   ]
  },
  {
   "cell_type": "code",
   "execution_count": 3,
   "id": "2cb76509",
   "metadata": {},
   "outputs": [
    {
     "name": "stdout",
     "output_type": "stream",
     "text": [
      "Log parsing functions defined.\n"
     ]
    }
   ],
   "source": [
    "def parse_log_file(source_file_path):\n",
    "    \"\"\"\n",
    "    Parses a log file to find error and warning lines that indicate a failure.\n",
    "\n",
    "    Args:\n",
    "        source_file_path (str): The path to the log file.\n",
    "\n",
    "    Returns:\n",
    "        tuple: A tuple containing two lists: (errors, warnings)\n",
    "    \"\"\"\n",
    "    errors = []\n",
    "    warnings = []\n",
    "\n",
    "    if not os.path.exists(source_file_path):\n",
    "        print(f\"Error: Source file '{source_file_path}' not found.\")\n",
    "        return errors, warnings\n",
    "\n",
    "    try:\n",
    "        with open(source_file_path, \"r\") as f:\n",
    "            for line in f:\n",
    "                line = line.strip()\n",
    "                if not line:\n",
    "                    continue\n",
    "\n",
    "                # Regex from the article:\n",
    "                regex_pattern_article = r\"\\w*level=(warning|error)*[\\w ]*[\\=\\\"\\w \\.]*[fF]ailed\"\n",
    "                result = re.search(regex_pattern_article, line)\n",
    "\n",
    "                if result:\n",
    "                   level_type = result.group(1)\n",
    "                   if level_type == 'error':\n",
    "                      errors.append(line)\n",
    "                   elif level_type == 'warning':\n",
    "                      warnings.append(line)\n",
    "\n",
    "    except Exception as e:\n",
    "        print(f\"An error occurred while processing {source_file_path}: {e}\")\n",
    "\n",
    "    return errors, warnings\n",
    "\n",
    "def save_messages(messages, output_filename):\n",
    "    \"\"\"Saves a list of messages to a file, one message per line.\"\"\"\n",
    "    with open(output_filename, 'w', newline='') as outfile:\n",
    "        for message in messages:\n",
    "            outfile.write(f\"{message}\\n\")\n",
    "    print(f\"Saved {len(messages)} messages to {output_filename}\")\n",
    "\n",
    "print(\"Log parsing functions defined.\")"
   ]
  },
  {
   "cell_type": "code",
   "execution_count": 4,
   "id": "54c57ced",
   "metadata": {},
   "outputs": [
    {
     "name": "stdout",
     "output_type": "stream",
     "text": [
      "Processing log1.txt...\n",
      "Saved 1 messages to error_messages_from_log1.txt\n",
      "Saved 4 messages to warning_messages_from_log1.txt\n",
      "\n",
      "--- Script Execution Complete ---\n"
     ]
    }
   ],
   "source": [
    "source_log_file = \"log1.txt\"\n",
    "error_output_file = \"error_messages_from_log1.txt\"\n",
    "warning_output_file = \"warning_messages_from_log1.txt\"\n",
    "\n",
    "print(f\"Processing {source_log_file}...\")\n",
    "errors_found, warnings_found = parse_log_file(source_log_file)\n",
    "\n",
    "if errors_found:\n",
    "    save_messages(errors_found, error_output_file)\n",
    "else:\n",
    "    print(f\"No 'failed' errors found in {source_log_file} matching the criteria.\")\n",
    "    if os.path.exists(error_output_file): os.remove(error_output_file)\n",
    "\n",
    "if warnings_found:\n",
    "    save_messages(warnings_found, warning_output_file)\n",
    "else:\n",
    "    print(f\"No 'failed' warnings found in {source_log_file} matching the criteria.\")\n",
    "    if os.path.exists(warning_output_file): os.remove(warning_output_file)\n",
    "\n",
    "print(\"\\n--- Script Execution Complete ---\")"
   ]
  },
  {
   "cell_type": "markdown",
   "id": "64edb9a5",
   "metadata": {},
   "source": [
    "## 2. Examining Output from `log1.txt`\n",
    "\n",
    "Let's display the contents of the generated files."
   ]
  },
  {
   "cell_type": "code",
   "execution_count": 5,
   "id": "260efef9",
   "metadata": {},
   "outputs": [
    {
     "name": "stdout",
     "output_type": "stream",
     "text": [
      "--- Contents of error_messages_from_log1.txt ---\n",
      "time=\"2020-03-18T14:40:30Z\" level=error msg=\"Database stream initialisation failed. Have you tried installing the WAL2JASON plugin?\" file=\"corp/application1/task1.go:96\" func=\"corp/application1/task1.Dblogger\" kind=application\n",
      "\n"
     ]
    }
   ],
   "source": [
    "print(f\"--- Contents of {error_output_file} ---\")\n",
    "if os.path.exists(error_output_file):\n",
    "    with open(error_output_file, \"r\") as f:\n",
    "        print(f.read())\n",
    "else:\n",
    "    print(f\"{error_output_file} not created (no relevant errors found or error during processing).\")"
   ]
  },
  {
   "cell_type": "code",
   "execution_count": 6,
   "id": "3f5ab893",
   "metadata": {},
   "outputs": [
    {
     "name": "stdout",
     "output_type": "stream",
     "text": [
      "\n",
      "--- Contents of warning_messages_from_log1.txt ---\n",
      "time=\"2020-03-18T14:40:31Z\" level=warning msg=\"Connection to hostA.local failed: host unreachable\" file=\"corp/application1/task1.go:100\" func=\"corp/application1/task1.Dblogger\" kind=application\n",
      "time=\"2020-03-18T14:40:31Z\" level=warning msg=\"Connection to hostA.local failed: host unreachable\" file=\"corp/application1/task1.go:102\" func=\"corp/application1/task1.Dblogger\" kind=application\n",
      "time=\"2020-03-18T14:40:31Z\" level=warning msg=\"Connection to hostB.local failed: Could not resolve host\" file=\"corp/application1/task1.go:104\" func=\"corp/application1/task1.Dblogger\" kind=application\n",
      "time=\"2020-03-18T14:40:38Z\" level=warning msg=\"Failed to write record, duplicate key violation for primary key\" file=\"corp/interviews/application1/task1.go:114\" func=\"corp/application1/task1.Dblogger\" kind=application\n",
      "\n",
      "time=\"2020-03-18T14:40:31Z\" level=warning msg=\"Connection to hostA.local failed: host unreachable\" file=\"corp/application1/task1.go:100\" func=\"corp/application1/task1.Dblogger\" kind=application\n",
      "time=\"2020-03-18T14:40:31Z\" level=warning msg=\"Connection to hostA.local failed: host unreachable\" file=\"corp/application1/task1.go:102\" func=\"corp/application1/task1.Dblogger\" kind=application\n",
      "time=\"2020-03-18T14:40:31Z\" level=warning msg=\"Connection to hostB.local failed: Could not resolve host\" file=\"corp/application1/task1.go:104\" func=\"corp/application1/task1.Dblogger\" kind=application\n",
      "time=\"2020-03-18T14:40:38Z\" level=warning msg=\"Failed to write record, duplicate key violation for primary key\" file=\"corp/interviews/application1/task1.go:114\" func=\"corp/application1/task1.Dblogger\" kind=application\n",
      "\n"
     ]
    }
   ],
   "source": [
    "print(f\"\\n--- Contents of {warning_output_file} ---\")\n",
    "if os.path.exists(warning_output_file):\n",
    "    with open(warning_output_file, \"r\") as f:\n",
    "        print(f.read())\n",
    "else:\n",
    "    print(f\"{warning_output_file} not created (no relevant warnings found or error during processing).\")"
   ]
  },
  {
   "cell_type": "markdown",
   "id": "22de6be9",
   "metadata": {},
   "source": [
    "## 3. Analysis of `log1.txt` Output\n",
    "\n",
    "Compare the output above with the article's expected parsed results for `log1.txt`:\n",
    "\n",
    "1.  `time=\"2020–03–18T14:40:30Z” level=error msg=”Database stream initialisation failed. Have you tried installing the WAL2JASON plugin?” file=”corp/application1/task1.go:96\" func=corp/application1/task1.Dblogger kind=application`\n",
    "2.  `time=”2020–03–18T14:40:31Z” level=warning msg=”Connection to hostA.local failed: host unreachable” file=”corp/application1/task1.go:100\" func=corp/application1/task1.Dblogger kind=application`\n",
    "3.  `time=”2020–03–18T14:40:31Z” level=warning msg=”Connection to hostA.local failed: host unreachable” file=”corp/application1/task1.go:102\" func=corp/application1/task1.Dblogger kind=application`\n",
    "4.  `time=”2020–03–18T14:40:31Z” level=warning msg=”Connection to hostB.local failed: Could not resolve host” file=”corp/application1/task1.go:104\" func=corp/application1/task1.Dblogger kind=application`\n",
    "5.  `time=”2020–03–18T14:40:38Z” level=warning msg=”Failed to write record, duplicate key violation for primary key” file=”corp/interviews/application1/task1.go:114\" func=corp/application1/task1.Dblogger kind=application`\n",
    "\n",
    "The script specifically looks for \"failed\" in the message. The line `level=warning msg=\"Archiving data source: old_records_2019\"` would not be caught, as intended by the article's script logic (\"not all 'Warning' throws a failure message\")."
   ]
  },
  {
   "cell_type": "markdown",
   "id": "3ddb6995",
   "metadata": {},
   "source": [
    "## 4. Next Steps: Analyzing `log2.txt` and `log3.txt`\n",
    "\n",
    "The article challenges the reader: \"Can you figure out any discrepancies in `log2.txt` and `log3.txt`? Feel free to share the methods you’ve used to identify the issues.\"\n",
    "\n",
    "**To do this:**\n",
    "1. Download `log2.txt` and `log3.txt` from [https://github.com/jacksonsiachan/sample_logs](https://github.com/jacksonsiachan/sample_logs) and place them in the same directory as this notebook.\n",
    "2. Modify and re-run the code cell for parsing, changing `source_log_file` to `\"log2.txt\"` and then to `\"log3.txt\"`.\n",
    "3. Examine the generated `error_messages...txt` and `warning_messages...txt` files.\n",
    "4. Look for patterns, recurring issues, or anything unusual.\n",
    "\n",
    "**Possible Methods to Identify Issues (beyond the current script):**\n",
    "* Refine Regex: The current regex is specific. You might need different or broader regex patterns for other types of errors/warnings not containing \"failed\".\n",
    "* Count Occurrences: Count how many times specific error or warning messages appear.\n",
    "* Timestamp Analysis: Look for errors/warnings clustered around specific times.\n",
    "* Extract More Fields: Modify the regex to capture not just the line, but specific fields like timestamp, message, file, function, etc., and then perhaps output to CSV for easier sorting and filtering in a spreadsheet program or pandas.\n",
    "* Look for \"INFO\" logs around errors/warnings: These can provide context about what the application was doing before an issue occurred."
   ]
  },
  {
   "cell_type": "markdown",
   "id": "01854835",
   "metadata": {},
   "source": [
    "## 5. Further Enhancements \n",
    "\n",
    "The article suggests several improvements and alternative approaches:\n",
    "\n",
    "* CSV Report: Modify the script to parse out individual fields (Timestamp, Level, Description, File, Function, Type) and write them to a structured CSV file. This would involve more complex regex with multiple capture groups.\n",
    "* Missing Information: The article notes that User IDs, Computer IDs, and specific problematic datasource names could be valuable additions to log messages for better debugging.\n",
    "* Cloud Logging Solutions:\n",
    "    * Stream logs to AWS CloudWatch or GCP Cloud Logging (Stackdriver).\n",
    "    * Use logging agents.\n",
    "    * Utilize cloud-native analytics (e.g., BigQuery) or built-in alerting.\n",
    "* Regular Expression Tool: Use online tools like `regex101.com` to build and test regex patterns."
   ]
  }
 ],
 "metadata": {
  "kernelspec": {
   "display_name": "Python 3",
   "language": "python",
   "name": "python3"
  },
  "language_info": {
   "codemirror_mode": {
    "name": "ipython",
    "version": 3
   },
   "file_extension": ".py",
   "mimetype": "text/x-python",
   "name": "python",
   "nbconvert_exporter": "python",
   "pygments_lexer": "ipython3",
   "version": "3.13.1"
  }
 },
 "nbformat": 4,
 "nbformat_minor": 5
}
