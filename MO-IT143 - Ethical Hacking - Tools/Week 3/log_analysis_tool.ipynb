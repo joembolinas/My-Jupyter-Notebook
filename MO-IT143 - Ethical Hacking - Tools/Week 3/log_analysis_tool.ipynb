{
 "cells": [
  {
   "cell_type": "markdown",
   "id": "2771540f",
   "metadata": {},
   "source": [
    "# Log Analysis Tool\n",
    "This notebook demonstrates how to build a Python GUI application for analyzing log files. The application will:\n",
    "\n",
    "- Open and read log files line by line.\n",
    "- Extract key details such as IP Address, Request Type, and Status Code.\n",
    "- Allow filtering of logs by status code and request type.\n",
    "- Count and display occurrences of each status code and request type.\n",
    "- Present results in a clear and user-friendly format."
   ]
  },
  {
   "cell_type": "code",
   "execution_count": 1,
   "id": "dc70a7b1",
   "metadata": {},
   "outputs": [],
   "source": [
    "# Import Required Libraries\n",
    "import tkinter as tk\n",
    "from tkinter import filedialog\n",
    "from tkinter.scrolledtext import ScrolledText\n",
    "import re\n",
    "from collections import Counter"
   ]
  },
  {
   "cell_type": "code",
   "execution_count": 2,
   "id": "c194a587",
   "metadata": {},
   "outputs": [],
   "source": [
    "# Define Function to Open and Read Log File\n",
    "def open_log_file():\n",
    "    file_path = filedialog.askopenfilename(filetypes=[(\"Log files\", \"*.log\"), (\"All files\", \"*.*\")])\n",
    "    if file_path:\n",
    "        with open(file_path, 'r') as file:\n",
    "            log_text.delete(\"1.0\", tk.END)\n",
    "            log_text.insert(tk.END, file.read())"
   ]
  },
  {
   "cell_type": "code",
   "execution_count": 3,
   "id": "d452eccb",
   "metadata": {},
   "outputs": [],
   "source": [
    "# Define Function to Extract and Display Log Details\n",
    "def analyze_logs():\n",
    "    log_content = log_text.get(\"1.0\", tk.END)\n",
    "    ip_pattern = r\"\\b(?:[0-9]{1,3}\\.){3}[0-9]{1,3}\\b\"\n",
    "    request_pattern = r'\"(GET|POST|PUT|DELETE)'\n",
    "    status_pattern = r'\\s(\\d{3})\\s'\n",
    "\n",
    "    ips = re.findall(ip_pattern, log_content)\n",
    "    requests = re.findall(request_pattern, log_content)\n",
    "    statuses = re.findall(status_pattern, log_content)\n",
    "\n",
    "    ip_count = Counter(ips)\n",
    "    request_count = Counter(requests)\n",
    "    status_count = Counter(statuses)\n",
    "\n",
    "    result_text.delete(\"1.0\", tk.END)\n",
    "    result_text.insert(tk.END, \"IP Address Counts:\\n\")\n",
    "    for ip, count in ip_count.items():\n",
    "        result_text.insert(tk.END, f\"{ip}: {count}\\n\")\n",
    "\n",
    "    result_text.insert(tk.END, \"\\nRequest Type Counts:\\n\")\n",
    "    for req, count in request_count.items():\n",
    "        result_text.insert(tk.END, f\"{req}: {count}\\n\")\n",
    "\n",
    "    result_text.insert(tk.END, \"\\nStatus Code Counts:\\n\")\n",
    "    for status, count in status_count.items():\n",
    "        result_text.insert(tk.END, f\"{status}: {count}\\n\")"
   ]
  },
  {
   "cell_type": "code",
   "execution_count": 4,
   "id": "c54cda95",
   "metadata": {},
   "outputs": [],
   "source": [
    "# Create GUI Application\n",
    "root = tk.Tk()\n",
    "root.title(\"Log Analysis Tool\")\n",
    "\n",
    "frame = tk.Frame(root)\n",
    "frame.pack(pady=10)\n",
    "\n",
    "open_button = tk.Button(frame, text=\"Open Log File\", command=open_log_file)\n",
    "open_button.pack(side=tk.LEFT, padx=5)\n",
    "\n",
    "analyze_button = tk.Button(frame, text=\"Analyze Logs\", command=analyze_logs)\n",
    "analyze_button.pack(side=tk.LEFT, padx=5)\n",
    "\n",
    "log_text = ScrolledText(root, width=80, height=20, wrap=tk.WORD)\n",
    "log_text.pack(padx=10, pady=10)\n",
    "\n",
    "result_text = ScrolledText(root, width=80, height=10, wrap=tk.WORD)\n",
    "result_text.pack(padx=10, pady=10)\n",
    "\n",
    "root.mainloop()"
   ]
  }
 ],
 "metadata": {
  "kernelspec": {
   "display_name": "Python 3",
   "language": "python",
   "name": "python3"
  },
  "language_info": {
   "codemirror_mode": {
    "name": "ipython",
    "version": 3
   },
   "file_extension": ".py",
   "mimetype": "text/x-python",
   "name": "python",
   "nbconvert_exporter": "python",
   "pygments_lexer": "ipython3",
   "version": "3.13.1"
  }
 },
 "nbformat": 4,
 "nbformat_minor": 5
}
