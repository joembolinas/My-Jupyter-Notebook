{
 "cells": [
  {
   "cell_type": "markdown",
   "metadata": {},
   "source": [
    "# Computer Networking for Ethical Hacking\n",
    "\n",
    "**A structured learning path covering networking concepts essential for cybersecurity and ethical hacking.**\n",
    "\n",
    "---\n",
    "\n",
    "**Disclaimer:** The information provided in this notebook is for educational purposes only. Understanding networking from an attacker's perspective is crucial for building robust defenses. However, attempting to access or interfere with computer systems or networks without explicit authorization is illegal and unethical. Always practice these techniques in controlled lab environments (like VMs, CTF platforms, or your own hardware) and with proper permissions."
   ]
  },
  {
   "cell_type": "markdown",
   "metadata": {},
   "source": [
    "## Table of Contents\n",
    "\n",
    "1.  [Introduction: Why Networking Matters](#Introduction)\n",
    "2.  [Networking Fundamentals](#Fundamentals)\n",
    "    *   [OSI & TCP/IP Models](#Models)\n",
    "    *   [IP Addressing (IPv4 & IPv6 Basics)](#IP-Addressing)\n",
    "    *   [Subnetting](#Subnetting)\n",
    "    *   [MAC Addresses](#MAC-Addresses)\n",
    "    *   [Ports and Sockets](#Ports-Sockets)\n",
    "    *   [Key Networking Devices](#Devices)\n",
    "3.  [Core Protocols Deep Dive](#Core-Protocols)\n",
    "    *   [ARP (Address Resolution Protocol)](#ARP)\n",
    "    *   [IP (Internet Protocol)](#IP)\n",
    "    *   [TCP (Transmission Control Protocol)](#TCP)\n",
    "    *   [UDP (User Datagram Protocol)](#UDP)\n",
    "    *   [ICMP (Internet Control Message Protocol)](#ICMP)\n",
    "    *   [DNS (Domain Name System)](#DNS)\n",
    "    *   [DHCP (Dynamic Host Configuration Protocol)](#DHCP)\n",
    "    *   [HTTP/HTTPS](#HTTP)\n",
    "4.  [Network Reconnaissance & Scanning](#Recon-Scanning)\n",
    "    *   [Passive vs. Active Reconnaissance](#Passive-Active)\n",
    "    *   [Ping Sweeps](#Ping-Sweeps)\n",
    "    *   [Port Scanning Techniques](#Port-Scanning)\n",
    "    *   [Service & Version Detection](#Service-Version)\n",
    "    *   [OS Fingerprinting](#OS-Fingerprinting)\n",
    "5.  [Common Network Attack Vectors](#Attack-Vectors)\n",
    "    *   [Packet Sniffing](#Sniffing)\n",
    "    *   [Spoofing (MAC, IP, ARP)](#Spoofing)\n",
    "    *   [Man-in-the-Middle (MitM) Attacks](#MitM)\n",
    "    *   [Denial of Service (DoS/DDoS)](#DoS)\n",
    "    *   [Session Hijacking](#Session-Hijacking)\n",
    "6.  [Essential Networking Tools](#Tools)\n",
    "    *   [Command Line Basics (`ping`, `traceroute`, `ipconfig`/`ifconfig`, `netstat`, `arp`)](#CLI-Tools)\n",
    "    *   [Wireshark](#Wireshark)\n",
    "    *   [Nmap](#Nmap)\n",
    "    *   [Netcat](#Netcat)\n",
    "    *   [Scapy (Brief Mention)](#Scapy)\n",
    "7.  [Network Security Concepts & Evasion](#Security-Evasion)\n",
    "    *   [Firewalls](#Firewalls)\n",
    "    *   [IDS/IPS](#IDS-IPS)\n",
    "    *   [VPNs](#VPNs)\n",
    "    *   [Network Segmentation](#Segmentation)\n",
    "    *   [Evasion Techniques](#Evasion)\n",
    "8.  [Advanced Topics (Overview)](#Advanced)\n",
    "    *   [IPv6 Security](#IPv6-Security)\n",
    "    *   [Wireless Networking Attacks](#Wireless-Attacks)\n",
    "    *   [Tunneling & Encapsulation](#Tunneling)\n",
    "9.  [Conclusion & Next Steps](#Conclusion)"
   ]
  },
  {
   "cell_type": "markdown",
   "metadata": {},
   "source": [
    "## 1. Introduction: Why Networking Matters <a id='Introduction'></a>\n",
    "\n",
    "Almost all hacking activities, from reconnaissance to exploitation and post-exploitation, involve interacting with networks. Understanding how data travels, how devices communicate, and how protocols work is fundamental to:\n",
    "\n",
    "*   **Identifying Targets:** Finding live hosts and open ports.\n",
    "*   **Enumerating Services:** Discovering what software is running on targets.\n",
    "*   **Exploiting Vulnerabilities:** Many vulnerabilities exist at the network protocol level or rely on network access.\n",
    "*   **Man-in-the-Middle Attacks:** Intercepting and manipulating network traffic.\n",
    "*   **Pivoting:** Moving through a network after gaining initial access.\n",
    "*   **Evading Detection:** Understanding firewalls, IDS/IPS to bypass them.\n",
    "*   **Exfiltrating Data:** Sending stolen data out of a compromised network.\n",
    "\n",
    "**In short: No network knowledge = No effective hacking.**"
   ]
  },
  {
   "cell_type": "markdown",
   "metadata": {},
   "source": [
    "## 2. Networking Fundamentals <a id='Fundamentals'></a>\n",
    "\n",
    "The basics upon which everything else is built."
   ]
  },
  {
   "cell_type": "markdown",
   "metadata": {},
   "source": [
    "### OSI & TCP/IP Models <a id='Models'></a>\n",
    "\n",
    "Conceptual frameworks that standardize network communication functions. Understanding the layers helps diagnose problems and understand where specific attacks occur.\n",
    "\n",
    "*   **OSI Model (7 Layers):** Application, Presentation, Session, Transport, Network, Data Link, Physical.\n",
    "*   **TCP/IP Model (4/5 Layers):** Application, Transport, Internet (Network), Link (Data Link/Physical). (Often presented with 4, sometimes 5 layers).\n",
    "\n",
    "**Hacking Relevance:**\n",
    "*   **Layer 2 (Data Link):** MAC Spoofing, ARP Poisoning.\n",
    "*   **Layer 3 (Network/Internet):** IP Spoofing, Ping Sweeps, Routing Attacks.\n",
    "*   **Layer 4 (Transport):** Port Scanning (TCP/UDP), SYN Floods, Session Hijacking.\n",
    "*   **Layer 7 (Application):** Web application attacks (SQLi, XSS - often over HTTP/S), DNS attacks, SMB exploits.\n",
    "\n",
    "`[Optional: Insert diagram comparing OSI and TCP/IP]`"
   ]
  },
  {
   "cell_type": "markdown",
   "metadata": {},
   "source": [
    "### IP Addressing (IPv4 & IPv6 Basics) <a id='IP-Addressing'></a>\n",
    "\n",
    "Logical addresses used to identify devices on a network.\n",
    "\n",
    "*   **IPv4:** 32-bit address (e.g., `192.168.1.100`). Running out of addresses.\n",
    "    *   **Classes (A, B, C, D, E):** Historically used, less relevant now with CIDR.\n",
    "    *   **Private vs. Public IP:** Private ranges (`10.0.0.0/8`, `172.16.0.0/12`, `192.168.0.0/16`) are not routable on the public internet. NAT (Network Address Translation) is used to map private to public IPs.\n",
    "*   **IPv6:** 128-bit address (e.g., `2001:0db8:85a3:0000:0000:8a2e:0370:7334`). Vast address space.\n",
    "\n",
    "**Hacking Relevance:** Identifying target IP addresses is step one. Understanding private vs. public ranges helps map internal networks. IPv6 introduces new attack surfaces."
   ]
  },
  {
   "cell_type": "markdown",
   "metadata": {},
   "source": [
    "### Subnetting <a id='Subnetting'></a>\n",
    "\n",
    "Dividing a larger network into smaller logical networks (subnets).\n",
    "\n",
    "*   **Subnet Mask:** Determines the network portion and host portion of an IP address (e.g., `255.255.255.0`).\n",
    "*   **CIDR (Classless Inter-Domain Routing):** Notation using a slash followed by the number of bits in the network portion (e.g., `192.168.1.0/24`).\n",
    "\n",
    "**Hacking Relevance:** Identifying the subnet helps determine the scope of the local network an attacker is in or targeting. It's crucial for network scanning and mapping."
   ]
  },
  {
   "cell_type": "markdown",
   "metadata": {},
   "source": [
    "### MAC Addresses <a id='MAC-Addresses'></a>\n",
    "\n",
    "Media Access Control address. A unique 48-bit hardware address burned into the Network Interface Card (NIC).\ Used for communication within the *same* local network segment (Layer 2).\n",
    "\n",
    "*   Example: `00:1A:2B:3C:4D:5E`\n",
    "*   ARP protocol maps IP addresses (Layer 3) to MAC addresses (Layer 2).\n",
    "\n",
    "**Hacking Relevance:** MAC addresses can be sniffed and spoofed (MAC Spoofing) to impersonate other devices on the local network, often used in conjunction with ARP poisoning for MitM attacks."
   ]
  },
  {
   "cell_type": "markdown",
   "metadata": {},
   "source": [
    "### Ports and Sockets <a id='Ports-Sockets'></a>\n",
    "\n",
    "*   **Ports:** Numbers (0-65535) used to identify specific applications or services running on a host. Used at the Transport Layer (TCP/UDP).\n",
    "    *   **Well-known Ports (0-1023):** Reserved for standard services (e.g., 80 for HTTP, 443 for HTTPS, 22 for SSH, 23 for Telnet, 25 for SMTP, 53 for DNS).\n",
    "    *   **Registered Ports (1024-49151):** Used by specific applications.\n",
    "    *   **Dynamic/Private Ports (49152-65535):** Used for outbound connections.\n",
    "*   **Socket:** The combination of an IP address and a Port number (e.g., `192.168.1.100:80`). Uniquely identifies a specific communication endpoint.\n",
    "\n",
    "**Hacking Relevance:** Port scanning is used to find open ports, indicating running services that might be vulnerable. Exploits often target specific services running on specific ports."
   ]
  },
  {
   "cell_type": "markdown",
   "metadata": {},
   "source": [
    "### Key Networking Devices <a id='Devices'></a>\n",
    "\n",
    "*   **Hub:** Layer 1 device. Repeats electrical signals to all ports. Creates collision domains. (Largely obsolete).\n",
    "*   **Switch:** Layer 2 device. Learns MAC addresses and forwards traffic only to the intended port. Creates separate collision domains but a single broadcast domain. Smarter than a hub.\n",
    "*   **Router:** Layer 3 device. Connects different networks. Makes forwarding decisions based on IP addresses. Separates broadcast domains.\n",
    "*   **Firewall:** Network security device (can operate at L3/L4/L7). Filters traffic based on rules (IPs, ports, protocols, application data).\n",
    "*   **Access Point (AP):** Allows wireless devices to connect to a wired network.\n",
    "\n",
    "**Hacking Relevance:** Understanding device roles helps predict traffic flow and identify potential control points or targets (e.g., compromising a router gives control over traffic)."
   ]
  },
  {
   "cell_type": "markdown",
   "metadata": {},
   "source": [
    "## 3. Core Protocols Deep Dive <a id='Core-Protocols'></a>\n",
    "\n",
    "Understanding how key protocols work is essential for exploiting their weaknesses."
   ]
  },
  {
   "cell_type": "markdown",
   "metadata": {},
   "source": [
    "### ARP (Address Resolution Protocol) <a id='ARP'></a>\n",
    "\n",
    "*   **Function:** Maps Layer 3 IP addresses to Layer 2 MAC addresses within a local network segment.\n",
    "*   **Process:** Host A wants to send data to IP B. Host A broadcasts an ARP request (\"Who has IP B?\"). Host B replies with an ARP response (\"I have IP B, my MAC is XX:XX:...\"). Host A caches this mapping.\n",
    "*   **Stateless:** ARP relies on trusting responses.\n",
    "\n",
    "**Hacking Relevance:** Vulnerable to **ARP Spoofing/Poisoning**. An attacker can send fake ARP replies to trick devices into sending traffic through the attacker's machine (enabling MitM attacks)."
   ]
  },
  {
   "cell_type": "markdown",
   "metadata": {},
   "source": [
    "### IP (Internet Protocol) <a id='IP'></a>\n",
    "\n",
    "*   **Function:** Responsible for addressing hosts and routing packets across networks (Layer 3).\n",
    "*   **Connectionless:** IP itself doesn't guarantee delivery, check for errors, or maintain order. It relies on upper-layer protocols (like TCP) for reliability.\n",
    "*   **Packet Structure:** Contains source/destination IP addresses, Time-To-Live (TTL), protocol type (TCP/UDP), etc.\n",
    "\n",
    "**Hacking Relevance:**\n",
    "*   **IP Spoofing:** Forging the source IP address in packets (used in some DoS attacks, hiding identity, bypassing simple IP-based filters).\n",
    "*   **Reconnaissance:** Analyzing IP headers (TTL can sometimes hint at OS)."
   ]
  },
  {
   "cell_type": "markdown",
   "metadata": {},
   "source": [
    "### TCP (Transmission Control Protocol) <a id='TCP'></a>\n",
    "\n",
    "*   **Function:** Provides reliable, ordered, and error-checked delivery of data between applications (Layer 4).\n",
    "*   **Connection-Oriented:** Establishes a connection using the **3-Way Handshake**:\n",
    "    1.  Client -> Server: SYN (Synchronize)\n",
    "    2.  Server -> Client: SYN/ACK (Synchronize/Acknowledge)\n",
    "    3.  Client -> Server: ACK (Acknowledge)\n",
    "*   **Segments:** Data units in TCP.\n",
    "*   **Flags:** Control bits in the TCP header (SYN, ACK, FIN, RST, PSH, URG). Crucial for connection management and scanning.\n",
    "\n",
    "**Hacking Relevance:**\n",
    "*   **Port Scanning:** Different scan types manipulate TCP flags (SYN Scan, FIN Scan, Xmas Scan).\n",
    "*   **SYN Flood (DoS):** Overwhelming a server with SYN packets without completing the handshake.\n",
    "*   **Session Hijacking:** Taking over an established TCP session.\n",
    "*   **Firewall Evasion:** Fragmenting packets, manipulating flags."
   ]
  },
  {
   "cell_type": "markdown",
   "metadata": {},
   "source": [
    "### UDP (User Datagram Protocol) <a id='UDP'></a>\n",
    "\n",
    "*   **Function:** Provides a simple, connectionless datagram service (Layer 4).\n",
    "*   **Unreliable:** No guaranteed delivery, order, or error checking (minimal header).\n",
    "*   **Faster:** Less overhead than TCP.\n",
    "*   **Use Cases:** DNS, DHCP, SNMP, VoIP, online gaming (where speed > reliability).\n",
    "\n",
    "**Hacking Relevance:**\n",
    "*   **UDP Port Scanning:** Different technique than TCP scanning, often slower and less reliable.\n",
    "*   **DoS Attacks:** UDP Flooding.\n",
    "*   **Exploiting Services:** Many services run over UDP (e.g., older SNMP versions)."
   ]
  },
  {
   "cell_type": "markdown",
   "metadata": {},
   "source": [
    "### ICMP (Internet Control Message Protocol) <a id='ICMP'></a>\n",
    "\n",
    "*   **Function:** Used by network devices to send error messages and operational information (e.g., destination unreachable, TTL exceeded).\n",
    "*   **Not a Transport Protocol:** Works alongside IP (Layer 3).\n",
    "*   **Common Uses:** `ping` (Echo Request/Reply), `traceroute` (uses TTL exceeded messages).\n",
    "\n",
    "**Hacking Relevance:**\n",
    "*   **Reconnaissance:** `ping` sweeps to find live hosts, `traceroute` to map network paths.\n",
    "*   **OS Fingerprinting:** Some OS respond differently to malformed ICMP packets.\n",
    "*   **DoS Attacks:** Ping Flood, Smurf Attack (amplification using broadcast addresses - largely historical).\n",
    "*   **Covert Channels:** Tunneling data within ICMP packets (less common)."
   ]
  },
  {
   "cell_type": "markdown",
   "metadata": {},
   "source": [
    "### DNS (Domain Name System) <a id='DNS'></a>\n",
    "\n",
    "*   **Function:** Translates human-readable domain names (e.g., `www.google.com`) into machine-readable IP addresses (e.g., `172.217.160.142`). Hierarchical and distributed database.\n",
    "*   **Protocol:** Primarily uses UDP port 53, can use TCP port 53 for large transfers (like zone transfers).\n",
    "\n",
    "**Hacking Relevance:**\n",
    "*   **Reconnaissance:** Finding subdomains, mail servers (MX records), name servers (NS records), etc. (DNS Enumeration).\n",
    "*   **DNS Spoofing/Cache Poisoning:** Tricking users into visiting malicious sites by providing fake IP addresses for legitimate domain names.\n",
    "*   **Zone Transfers (AXFR):** Attempting to download the entire DNS database for a domain (often restricted).\n",
    "*   **DNS Tunneling:** Encapsulating other traffic within DNS queries/responses for C&C or data exfiltration."
   ]
  },
  {
   "cell_type": "markdown",
   "metadata": {},
   "source": [
    "### DHCP (Dynamic Host Configuration Protocol) <a id='DHCP'></a>\n",
    "\n",
    "*   **Function:** Automatically assigns IP addresses and other network configuration (subnet mask, default gateway, DNS servers) to clients on a network.\n",
    "*   **Process (DORA):** Discover (Client broadcast), Offer (Server unicast/broadcast), Request (Client broadcast), Acknowledge (Server unicast/broadcast).\n",
    "*   **Protocol:** Uses UDP ports 67 (Server) and 68 (Client).\n",
    "\n",
    "**Hacking Relevance:**\n",
    "*   **Rogue DHCP Server:** An attacker sets up a fake DHCP server to assign clients malicious network settings (e.g., attacker's IP as the default gateway for MitM).\n",
    "*   **DHCP Starvation:** Attacker requests all available IP addresses to cause a DoS for legitimate clients."
   ]
  },
  {
   "cell_type": "markdown",
   "metadata": {},
   "source": [
    "### HTTP/HTTPS <a id='HTTP'></a>\n",
    "\n",
    "*   **HTTP (HyperText Transfer Protocol):** Application layer protocol for transferring web resources (HTML pages, images, etc.). Runs over TCP port 80. **Plain text.**\n",
    "*   **HTTPS (HTTP Secure):** HTTP over TLS/SSL. Encrypts the communication, providing confidentiality and integrity. Runs over TCP port 443.\n",
    "\n",
    "**Hacking Relevance:**\n",
    "*   **Sniffing (HTTP):** Easy to intercept credentials, session cookies, sensitive data sent over plain HTTP.\n",
    "*   **Web Application Attacks:** Many attacks (SQLi, XSS, CSRF) are delivered via HTTP/S requests.\n",
    "*   **MitM (HTTPS):** More complex, often involves SSL Stripping or fake certificates.\n",
    "*   **Analyzing Headers:** Headers contain valuable information for reconnaissance and exploitation."
   ]
  },
  {
   "cell_type": "markdown",
   "metadata": {},
   "source": [
    "## 4. Network Reconnaissance & Scanning <a id='Recon-Scanning'></a>\n",
    "\n",
    "Finding and learning about targets on the network."
   ]
  },
  {
   "cell_type": "markdown",
   "metadata": {},
   "source": [
    "### Passive vs. Active Reconnaissance <a id='Passive-Active'></a>\n",
    "\n",
    "*   **Passive:** Gathering information without directly interacting with the target network. Lower risk of detection.\n",
    "    *   Examples: Whois lookups, DNS enumeration, Google Hacking (Dorking), Shodan search engine, analyzing public records, social media.\n",
    "*   **Active:** Directly probing the target network. Higher chance of detection but provides more detailed information.\n",
    "    *   Examples: Ping sweeps, port scanning, banner grabbing, vulnerability scanning.\n",
    "\n",
    "**Hacking Relevance:** Reconnaissance is the first phase of most hacking methodologies. Passive recon provides context, active recon identifies live systems and open ports."
   ]
  },
  {
   "cell_type": "markdown",
   "metadata": {},
   "source": [
    "### Ping Sweeps <a id='Ping-Sweeps'></a>\n",
    "\n",
    "*   **Goal:** Identify live hosts within a target IP range.\n",
    "*   **Method:** Sending ICMP Echo Requests (`ping`) to multiple IPs and seeing which ones respond with an ICMP Echo Reply.\n",
    "*   **Tools:** `ping`, `nmap -sn` (formerly `nmap -sP`), dedicated ping sweep tools.\n",
    "*   **Limitations:** Hosts may block ICMP requests (firewall rule).\n",
    "\n",
    "**Hacking Relevance:** Basic active reconnaissance technique to quickly find potentially active machines."
   ]
  },
  {
   "cell_type": "markdown",
   "metadata": {},
   "source": [
    "### Port Scanning Techniques <a id='Port-Scanning'></a>\n",
    "\n",
    "*   **Goal:** Identify open TCP and UDP ports on a target host, indicating running services.\n",
    "*   **Common TCP Scan Types:**\n",
    "    *   **TCP Connect Scan (`-sT` in Nmap):** Completes the full 3-way handshake. Reliable but easily logged/detected.\n",
    "    *   **SYN Scan / Stealth Scan (`-sS` in Nmap):** Sends only a SYN packet. If SYN/ACK received, port is open; if RST received, port is closed. Doesn't complete the handshake, less likely to be logged. (Requires root/admin privileges).\n",
    "    *   **FIN Scan (`-sF`), Xmas Scan (`-sX`), Null Scan (`-sN`):** Send packets with specific flags set (or none). Rely on specific RFC behavior for closed ports (sending RST). Can bypass some stateless firewalls. Less reliable.\n",
    "*   **UDP Scan (`-sU` in Nmap):** Sends UDP packets to target ports. No response often means open (or filtered). ICMP Port Unreachable means closed. Slow and less reliable due to UDP's nature.\n",
    "\n",
    "**Hacking Relevance:** Core technique to discover potential entry points (vulnerable services)."
   ]
  },
  {
   "cell_type": "markdown",
   "metadata": {},
   "source": [
    "### Service & Version Detection <a id='Service-Version'></a>\n",
    "\n",
    "*   **Goal:** Identify the specific software and version running on an open port.\n",
    "*   **Method:** Sends probes specific to known protocols and analyzes the responses (banners, protocol behavior).\n",
    "*   **Tools:** `nmap -sV`\n",
    "\n",
    "**Hacking Relevance:** Knowing the exact service and version allows attackers to search for known vulnerabilities (e.g., using exploit databases like Exploit-DB)."
   ]
  },
  {
   "cell_type": "markdown",
   "metadata": {},
   "source": [
    "### OS Fingerprinting <a id='OS-Fingerprinting'></a>\n",
    "\n",
    "*   **Goal:** Determine the operating system of the target host.\n",
    "*   **Methods:**\n",
    "    *   **Active:** Sending specially crafted packets (TCP, UDP, ICMP) and analyzing subtle differences in how different OS stacks respond (e.g., initial TCP window size, TCP options, ICMP responses). (`nmap -O`)\n",
    "    *   **Passive:** Analyzing captured network traffic (e.g., TTL values, window sizes in SYN packets). (`p0f` tool)\n",
    "\n",
    "**Hacking Relevance:** Knowing the OS helps narrow down potential vulnerabilities and tailor exploits."
   ]
  },
  {
   "cell_type": "markdown",
   "metadata": {},
   "source": [
    "## 5. Common Network Attack Vectors <a id='Attack-Vectors'></a>\n",
    "\n",
    "Exploiting network protocols and configurations."
   ]
  },
  {
   "cell_type": "markdown",
   "metadata": {},
   "source": [
    "### Packet Sniffing <a id='Sniffing'></a>\n",
    "\n",
    "*   **Goal:** Capture and inspect network traffic passing through a network interface.\n",
    "*   **How:** Placing a NIC in \"promiscuous mode\" allows it to capture all traffic on the local network segment (not just traffic destined for its own MAC address). On switched networks, sniffing is typically limited to traffic involving the sniffing machine unless combined with other attacks (like ARP spoofing).\n",
    "*   **Tools:** Wireshark, tcpdump.\n",
    "\n",
    "**Hacking Relevance:** Capturing unencrypted data (credentials, session cookies over HTTP, FTP, Telnet), gathering information about network activity."
   ]
  },
  {
   "cell_type": "markdown",
   "metadata": {},
   "source": [
    "### Spoofing (MAC, IP, ARP) <a id='Spoofing'></a>\n",
    "\n",
    "*   **Goal:** Falsifying source address information.\n",
    "*   **MAC Spoofing:** Changing the MAC address of the attacker's NIC to impersonate another device. Useful for bypassing MAC filtering or aiding ARP poisoning.\n",
    "*   **IP Spoofing:** Changing the source IP address in outgoing packets. Often used in DoS attacks or to hide the attacker's origin (though responses go to the spoofed IP, making two-way communication difficult without other techniques).\n",
    "*   **ARP Spoofing/Poisoning:** Sending forged ARP messages onto a LAN. Used to associate the attacker's MAC address with the IP address of another host (like the default gateway), thus intercepting traffic (MitM).\n",
    "\n",
    "**Hacking Relevance:** Impersonation, bypassing filters, enabling MitM attacks."
   ]
  },
  {
   "cell_type": "markdown",
   "metadata": {},
   "source": [
    "### Man-in-the-Middle (MitM) Attacks <a id='MitM'></a>\n",
    "\n",
    "*   **Goal:** Intercepting communication between two parties without their knowledge.\n",
    "*   **Common Network-Level Methods:**\n",
    "    *   **ARP Poisoning:** (Most common on LANs) Attacker poisons ARP caches of victim and gateway, forcing traffic through the attacker's machine.\n",
    "    *   **DNS Spoofing:** Providing fake DNS responses to redirect victims to malicious servers.\n",
    "    *   **Rogue AP:** Setting up a fake Wi-Fi access point with a similar name to a legitimate one.\n",
    "    *   **SSL Stripping:** Downgrading HTTPS connections to HTTP to sniff traffic (less effective with HSTS).\n",
    "*   **Tools:** Ettercap, Bettercap, Responder.\n",
    "\n",
    "**Hacking Relevance:** Allows attackers to eavesdrop, modify, or inject traffic (steal credentials, inject malware)."
   ]
  },
  {
   "cell_type": "markdown",
   "metadata": {},
   "source": [
    "### Denial of Service (DoS/DDoS) <a id='DoS'></a>\n",
    "\n",
    "*   **Goal:** Make a service or resource unavailable to legitimate users.\n",
    "*   **DoS:** Attack from a single source.\n",
    "*   **DDoS (Distributed DoS):** Attack from multiple compromised sources (botnet).\n",
    "*   **Network-Based Methods:**\n",
    "    *   **SYN Flood:** Exploits TCP handshake (see TCP section).\n",
    "    *   **UDP Flood:** Flooding target with UDP packets.\n",
    "    *   **ICMP Flood (Ping Flood):** Flooding target with ICMP Echo Requests.\n",
    "    *   **Amplification Attacks:** E.g., DNS or NTP amplification - sending small spoofed requests to servers that generate large replies directed at the victim.\n",
    "\n",
    "**Hacking Relevance:** Disrupting services, creating diversions."
   ]
  },
  {
   "cell_type": "markdown",
   "metadata": {},
   "source": [
    "### Session Hijacking <a id='Session-Hijacking'></a>\n",
    "\n",
    "*   **Goal:** Take over an existing authenticated session between a client and a server.\n",
    "*   **Network-Level (TCP Session Hijacking):** Involves predicting or sniffing TCP sequence numbers to inject packets into an established TCP connection, impersonating one of the parties.\n",
    "*   **Application-Level:** More common today. Stealing session cookies (via sniffing, XSS, MitM) and using them to access the victim's session.\n",
    "\n",
    "**Hacking Relevance:** Gaining unauthorized access without needing credentials."
   ]
  },
  {
   "cell_type": "markdown",
   "metadata": {},
   "source": [
    "## 6. Essential Networking Tools <a id='Tools'></a>\n",
    "\n",
    "Hands-on tools for interacting with and analyzing networks."
   ]
  },
  {
   "cell_type": "markdown",
   "metadata": {},
   "source": [
    "### Command Line Basics (`ping`, `traceroute`, `ipconfig`/`ifconfig`, `netstat`, `arp`) <a id='CLI-Tools'></a>\n",
    "\n",
    "Fundamental tools available on most OS:\n",
    "\n",
    "*   `ping <host>`: Test reachability (ICMP Echo Request/Reply).\n",
    "*   `traceroute <host>` / `tracert <host>` (Windows): Map network path to a host (uses ICMP/UDP and TTL).\n",
    "*   `ipconfig` (Windows) / `ifconfig` or `ip addr` (Linux): Display local IP configuration.\n",
    "*   `netstat -ano` (Windows) / `netstat -antup` or `ss -antup` (Linux): Display network connections, listening ports, PIDs.\n",
    "*   `arp -a`: Display the local ARP cache (IP-to-MAC mappings).\n",
    "\n",
    "**Hacking Relevance:** Basic network troubleshooting, information gathering, and verification."
   ]
  },
  {
   "cell_type": "code",
   "execution_count": null,
   "metadata": {},
   "outputs": [],
   "source": [
    "# Example (Linux/macOS - run in terminal, not directly in notebook unless configured)\n",
    "# !ping -c 4 google.com\n",
    "# !traceroute google.com\n",
    "# !ip addr\n",
    "# !ss -antup\n",
    "# !arp -a\n",
    "\n",
    "# Example (Windows - run in cmd/powershell)\n",
    "# ping google.com\n",
    "# tracert google.com\n",
    "# ipconfig /all\n",
    "# netstat -ano\n",
    "# arp -a"
   ]
  },
  {
   "cell_type": "markdown",
   "metadata": {},
   "source": [
    "### Wireshark <a id='Wireshark'></a>\n",
    "\n",
    "*   **Function:** Powerful graphical packet sniffer and protocol analyzer.\n",
    "*   **Features:** Captures live traffic, reads saved capture files (pcap), extensive filtering capabilities, protocol dissection.\n",
    "\n",
    "**Hacking Relevance:** Indispensable for understanding network traffic, analyzing captured data (e.g., from MitM attacks), troubleshooting, reverse engineering protocols."
   ]
  },
  {
   "cell_type": "markdown",
   "metadata": {},
   "source": [
    "### Nmap (Network Mapper) <a id='Nmap'></a>\n",
    "\n",
    "*   **Function:** The de facto standard tool for network discovery and security auditing.\n",
    "*   **Features:** Host discovery (ping sweeps), port scanning (various techniques), service/version detection, OS detection, Nmap Scripting Engine (NSE) for advanced tasks (vulnerability detection, exploitation).\n",
    "\n",
    "**Hacking Relevance:** Essential for reconnaissance and enumeration phases."
   ]
  },
  {
   "cell_type": "code",
   "execution_count": null,
   "metadata": {},
   "outputs": [],
   "source": [
    "# Example Nmap commands (Run in terminal)\n",
    "# Find live hosts in a subnet (Ping Scan)\n",
    "# !nmap -sn 192.168.1.0/24\n",
    "\n",
    "# Basic SYN scan of top 1000 ports\n",
    "# !sudo nmap -sS <target_ip>\n",
    "\n",
    "# Scan all TCP ports with Service/Version detection and OS detection\n",
    "# !sudo nmap -p- -sV -O <target_ip>\n",
    "\n",
    "# Run default NSE scripts\n",
    "# !sudo nmap -sC <target_ip>"
   ]
  },
  {
   "cell_type": "markdown",
   "metadata": {},
   "source": [
    "### Netcat (`nc`) <a id='Netcat'></a>\n",
    "\n",
    "*   **Function:** The \"Swiss Army Knife\" of networking. Reads/writes data across network connections using TCP or UDP.\n",
    "*   **Uses:** Port scanning (basic), banner grabbing, file transfer, creating simple TCP/UDP clients/servers, reverse/bind shells.\n",
    "\n",
    "**Hacking Relevance:** Extremely versatile for quick checks, setting up listeners (reverse shells), and basic network interaction."
   ]
  },
  {
   "cell_type": "code",
   "execution_count": null,
   "metadata": {},
   "outputs": [],
   "source": [
    "# Example Netcat commands (Run in terminal)\n",
    "\n",
    "# Listen on port 1234 (TCP)\n",
    "# !nc -lvp 1234\n",
    "\n",
    "# Connect to a host on port 80\n",
    "# !nc <target_ip> 80\n",
    "\n",
    "# Simple Banner Grab\n",
    "# !echo \"\" | nc -v -w 1 <target_ip> 80 \n",
    "\n",
    "# Simple File Transfer (Receiver)\n",
    "# !nc -lvp 1234 > received_file\n",
    "# Simple File Transfer (Sender)\n",
    "# !nc <receiver_ip> 1234 < file_to_send"
   ]
  },
  {
   "cell_type": "markdown",
   "metadata": {},
   "source": [
    "### Scapy (Brief Mention) <a id='Scapy'></a>\n",
    "\n",
    "*   **Function:** Powerful Python library for packet manipulation.\n",
    "*   **Features:** Create custom packets for any protocol, send/receive packets, sniff traffic.\n",
    "\n",
    "**Hacking Relevance:** Advanced network analysis, developing custom scanning/attacking tools, protocol fuzzing."
   ]
  },
  {
   "cell_type": "code",
   "execution_count": null,
   "metadata": {},
   "outputs": [],
   "source": [
    "# Example Scapy usage (Requires Scapy library: pip install scapy)\n",
    "# Run within a Python interpreter or script\n",
    "\n",
    "# from scapy.all import IP, TCP, sr1\n",
    "\n",
    "# Craft a SYN packet\n",
    "# syn_packet = IP(dst=\"<target_ip>\")/TCP(dport=80, flags='S')\n",
    "\n",
    "# Send and receive one packet\n",
    "# response = sr1(syn_packet, timeout=1, verbose=0)\n",
    "\n",
    "# if response:\n",
    "#     print(response.summary())\n",
    "# else:\n",
    "#     print(\"No response\")"
   ]
  },
  {
   "cell_type": "markdown",
   "metadata": {},
   "source": [
    "## 7. Network Security Concepts & Evasion <a id='Security-Evasion'></a>\n",
    "\n",
    "Understanding defenses is key to bypassing them."
   ]
  },
  {
   "cell_type": "markdown",
   "metadata": {},
   "source": [
    "### Firewalls <a id='Firewalls'></a>\n",
    "\n",
    "*   **Function:** Filter network traffic based on predefined rules.\n",
    "*   **Types:**\n",
    "    *   **Packet Filtering (Stateless):** Examines individual packets based on IP/Port/Protocol. Simple but doesn't track connection state.\n",
    "    *   **Stateful Inspection:** Tracks the state of active connections. More secure, allows return traffic implicitly.\n",
    "    *   **Proxy Firewalls (Application Level Gateway):** Act as intermediaries for specific applications (e.g., HTTP proxy). Can inspect application data.\n",
    "    *   **Next-Generation Firewalls (NGFW):** Combine stateful inspection with deep packet inspection, intrusion prevention, application awareness.\n",
    "\n",
    "**Hacking Relevance:** Firewalls are primary obstacles. Attackers need techniques to bypass rules (e.g., using allowed ports, fragmenting packets, source port manipulation)."
   ]
  },
  {
   "cell_type": "markdown",
   "metadata": {},
   "source": [
    "### IDS/IPS <a id='IDS-IPS'></a>\n",
    "\n",
    "*   **IDS (Intrusion Detection System):** Monitors network traffic for suspicious activity or known attack signatures. Generates alerts.\n",
    "*   **IPS (Intrusion Prevention System):** Similar to IDS, but can also actively block malicious traffic.\n",
    "*   **Detection Methods:**\n",
    "    *   **Signature-Based:** Looks for patterns matching known attacks.\n",
    "    *   **Anomaly-Based:** Looks for deviations from normal network behavior.\n",
    "\n",
    "**Hacking Relevance:** Attackers need to evade detection by modifying attack patterns, using encryption, employing slow scans, fragmenting data, etc."
   ]
  },
  {
   "cell_type": "markdown",
   "metadata": {},
   "source": [
    "### VPNs (Virtual Private Networks) <a id='VPNs'></a>\n",
    "\n",
    "*   **Function:** Creates an encrypted tunnel over a public network (like the internet) to connect endpoints securely.\n",
    "*   **Protocols:** PPTP (insecure), L2TP/IPsec, OpenVPN, WireGuard.\n",
    "\n",
    "**Hacking Relevance:**\n",
    "*   **Defense:** Used by organizations to secure remote access.\n",
    "*   **Offense:** Used by attackers to hide their real IP address (anonymity). However, VPN providers may keep logs.\n",
    "*   **Attacking VPNs:** Exploiting vulnerabilities in VPN protocols or implementations, attacking VPN endpoints."
   ]
  },
  {
   "cell_type": "markdown",
   "metadata": {},
   "source": [
    "### Network Segmentation <a id='Segmentation'></a>\n",
    "\n",
    "*   **Function:** Dividing a network into smaller, isolated segments (e.g., using VLANs, firewalls).\n",
    "*   **Purpose:** Limits the impact of a breach (containment), improves performance, enhances security by controlling traffic flow between segments.\n",
    "\n",
    "**Hacking Relevance:** Attackers who gain access to one segment may need to perform **pivoting** techniques to bypass segmentation controls and reach targets in other segments."
   ]
  },
  {
   "cell_type": "markdown",
   "metadata": {},
   "source": [
    "### Evasion Techniques <a id='Evasion'></a>\n",
    "\n",
    "*   **Goal:** Bypass firewalls and IDS/IPS.\n",
    "*   **Common Techniques:**\n",
    "    *   **Fragmentation:** Splitting packets into smaller fragments to bypass simple pattern matching.\n",
    "    *   **Using Non-Standard Ports:** Running services on unexpected ports.\n",
    "    *   **Encryption:** Using TLS/SSL or VPNs to hide traffic content.\n",
    "    *   **Slow Scans:** Reducing scan speed to avoid triggering rate limits or anomaly detection.\n",
    "    *   **Source Port Manipulation:** Using common source ports (e.g., 53, 80) for outgoing traffic.\n",
    "    *   **Obfuscation:** Modifying exploit code or traffic patterns to avoid known signatures.\n",
    "    *   **Decoys (Nmap):** Sending scans from spoofed IP addresses alongside the real one.\n",
    "\n",
    "**Hacking Relevance:** Essential for successfully conducting attacks in monitored environments."
   ]
  },
  {
   "cell_type": "markdown",
   "metadata": {},
   "source": [
    "## 8. Advanced Topics (Overview) <a id='Advanced'></a>\n",
    "\n",
    "Brief introductions to more complex areas."
   ]
  },
  {
   "cell_type": "markdown",
   "metadata": {},
   "source": [
    "### IPv6 Security <a id='IPv6-Security'></a>\n",
    "\n",
    "*   **Differences:** Larger address space, different header format, built-in IPsec support (optional), different methods for address assignment (SLAAC, DHCPv6).\n",
    "*   **Security Challenges:** Many admins/tools less familiar, dual-stack (IPv4/IPv6) complexities, new ICMPv6 message types, potential bypasses if IPv6 security isn't configured properly.\n",
    "*   **New Attack Vectors:** Neighbor Discovery Protocol (NDP) attacks (similar to ARP spoofing), router advertisement flooding, reconnaissance using multicast addresses.\n",
    "\n",
    "**Hacking Relevance:** An emerging area as IPv6 adoption grows. Understanding its differences is crucial for attacking or defending modern networks."
   ]
  },
  {
   "cell_type": "markdown",
   "metadata": {},
   "source": [
    "### Wireless Networking Attacks <a id='Wireless-Attacks'></a>\n",
    "\n",
    "*   **Protocols:** 802.11 standards (a/b/g/n/ac/ax).\n",
    "*   **Security Mechanisms:** WEP (broken), WPA, WPA2, WPA3 (PSK/Enterprise).\n",
    "*   **Common Attacks:**\n",
    "    *   **Cracking WEP/WPA/WPA2:** Capturing handshakes and using dictionary/brute-force attacks (WPA/WPA2 requires captured handshake).\n",
    "    *   **Deauthentication Attack:** Forcing clients to disconnect, potentially to capture a handshake when they reconnect.\n",
    "    *   **Evil Twin AP:** Setting up a rogue AP with the same name (SSID) as a legitimate one to trick users into connecting (MitM).\n",
    "    *   **WPS Attacks:** Exploiting weaknesses in Wi-Fi Protected Setup.\n",
    "*   **Tools:** Aircrack-ng suite, Kismet, WiFite.\n",
    "\n",
    "**Hacking Relevance:** Gaining access to a network via its wireless infrastructure."
   ]
  },
  {
   "cell_type": "markdown",
   "metadata": {},
   "source": [
    "### Tunneling & Encapsulation <a id='Tunneling'></a>\n",
    "\n",
    "*   **Concept:** Encapsulating one network protocol within another.\n",
    "*   **Uses:**\n",
    "    *   **VPNs:** Encapsulating private network traffic within packets sent over a public network.\n",
    "    *   **SSH Tunneling:** Forwarding ports or creating SOCKS proxies over an encrypted SSH connection.\n",
    "    *   **DNS Tunneling / ICMP Tunneling:** Hiding data within DNS or ICMP packets for covert communication or bypassing firewalls.\n",
    "    *   **GRE (Generic Routing Encapsulation):** Simple tunneling protocol.\n",
    "\n",
    "**Hacking Relevance:** Used for C&C (Command and Control), data exfiltration, bypassing network restrictions, pivoting."
   ]
  },
  {
   "cell_type": "markdown",
   "metadata": {},
   "source": [
    "## 9. Conclusion & Next Steps <a id='Conclusion'></a>\n",
    "\n",
    "This notebook covered the foundational networking concepts, protocols, tools, and attack vectors crucial for ethical hacking.\n",
    "\n",
    "**Key Takeaways:**\n",
    "*   Networking is inseparable from hacking.\n",
    "*   Understanding protocols reveals weaknesses.\n",
    "*   Reconnaissance and scanning are essential first steps.\n",
    "*   Tools like Wireshark, Nmap, and Netcat are fundamental.\n",
    "*   Defenses (Firewalls, IDS/IPS) require specific evasion techniques.\n",
    "\n",
    "**Next Steps:**\n",
    "\n",
    "1.  **Practice:** Theory is not enough. Set up a home lab (using VMs like VirtualBox/VMware) or use online platforms:\n",
    "    *   TryHackMe\n",
    "    *   Hack The Box\n",
    "    *   VulnHub\n",
    "2.  **Deepen Knowledge:** Explore specific protocols or attack types in more detail.\n",
    "3.  **Learn Scripting:** Python (with libraries like Scapy, Requests, Socket) is invaluable for automating tasks and creating custom tools.\n",
    "4.  **Explore Certifications:** Consider certifications like CompTIA Network+, Security+, eJPT, PNPT, OSCP (depending on your goals).\n",
    "5.  **Stay Ethical:** Always practice legally and ethically.\n",
    "\n",
    "Good luck on your cybersecurity journey!"
   ]
  }
 ],
 "metadata": {
  "kernelspec": {
   "display_name": "Python 3",
   "language": "python",
   "name": "python3"
  },
  "language_info": {
   "codemirror_mode": {
    "name": "ipython",
    "version": 3
   },
   "file_extension": ".py",
   "mimetype": "text/x-python",
   "name": "python",
   "nbconvert_exporter": "python",
   "pygments_lexer": "ipython3",
   "version": "3.8.8"
  }
 },
 "nbformat": 4,
 "nbformat_minor": 4
}
