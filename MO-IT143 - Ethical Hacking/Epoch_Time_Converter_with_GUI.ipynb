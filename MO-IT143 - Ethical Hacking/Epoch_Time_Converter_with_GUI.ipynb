{
 "cells": [
  {
   "cell_type": "markdown",
   "id": "cb78c03e",
   "metadata": {},
   "source": [
    "# Epoch Time Converter with GUI\n",
    "\n",
    "This notebook implements a simple utility to convert between Epoch/Unix timestamps and human-readable datetime strings. It uses `tkinter` for a basic graphical user interface (GUI) to prompt the user for input and display results."
   ]
  },
  {
   "cell_type": "markdown",
   "id": "530e00dd",
   "metadata": {},
   "source": [
    "## 1. Import Necessary Libraries"
   ]
  },
  {
   "cell_type": "code",
   "execution_count": 1,
   "id": "9b2db1e2",
   "metadata": {},
   "outputs": [],
   "source": [
    "import datetime\n",
    "import tkinter\n",
    "from tkinter import simpledialog, messagebox"
   ]
  },
  {
   "cell_type": "markdown",
   "id": "0de0c797",
   "metadata": {},
   "source": [
    "## 2. Helper Functions\n",
    "\n",
    "These functions handle the core conversion logic."
   ]
  },
  {
   "cell_type": "markdown",
   "id": "3e2c2879",
   "metadata": {},
   "source": [
    "### 2.1. `epoch_to_datetime(epoch_time)`\n",
    "\n",
    "Converts an Epoch/Unix timestamp to a human-readable datetime string."
   ]
  },
  {
   "cell_type": "code",
   "execution_count": 2,
   "id": "0e32ac4c",
   "metadata": {},
   "outputs": [],
   "source": [
    "def epoch_to_datetime(epoch_time):\n",
    "    \"\"\"\n",
    "    Converts an Epoch/Unix timestamp to a human-readable datetime string.\n",
    "\n",
    "    Args:\n",
    "        epoch_time (str, int, or float): The Epoch timestamp.\n",
    "                                         It will be converted to float.\n",
    "\n",
    "    Returns:\n",
    "        str: A string representing the datetime in 'YYYY-MM-DD HH:MM:SS' format,\n",
    "             or an error message if the input is invalid.\n",
    "    \"\"\"\n",
    "    try:\n",
    "        # Ensure epoch_time is treated as a number.\n",
    "        timestamp = float(epoch_time)\n",
    "        dt_object = datetime.datetime.fromtimestamp(timestamp)\n",
    "        return dt_object.strftime(\"%Y-%m-%d %H:%M:%S\")\n",
    "    except ValueError:\n",
    "        return \"Error: Invalid Epoch time. Please enter a valid number (e.g., 1603720800).\"\n",
    "    except TypeError: # Catches if epoch_time is None or other non-convertible types\n",
    "        return \"Error: Epoch time must be a number. Input was empty or invalid.\"\n",
    "    except OSError as e: # Handles cases like negative timestamps on some systems\n",
    "        return f\"Error: Could not convert timestamp. System error: {e}\""
   ]
  },
  {
   "cell_type": "markdown",
   "id": "0fbb9791",
   "metadata": {},
   "source": [
    "### 2.2. `datetime_to_epoch(datetime_str, datetime_format=\"%Y-%m-%d %H:%M:%S\")`\n",
    "\n",
    "Converts a datetime string to an Epoch/Unix timestamp."
   ]
  },
  {
   "cell_type": "code",
   "execution_count": 3,
   "id": "98cfd6dd",
   "metadata": {},
   "outputs": [],
   "source": [
    "def datetime_to_epoch(datetime_str, datetime_format=\"%Y-%m-%d %H:%M:%S\"):\n",
    "    \"\"\"\n",
    "    Converts a datetime string to an Epoch/Unix timestamp.\n",
    "\n",
    "    Args:\n",
    "        datetime_str (str): The datetime string (e.g., \"2023-10-26 14:30:00\").\n",
    "        datetime_format (str): The format of the datetime_str.\n",
    "                               Defaults to \"%Y-%m-%d %H:%M:%S\".\n",
    "\n",
    "    Returns:\n",
    "        str: The Epoch timestamp as a string,\n",
    "             or an error message if the input is invalid.\n",
    "             Returns as string to be consistent for messagebox display.\n",
    "    \"\"\"\n",
    "    try:\n",
    "        if not datetime_str: # Handle empty input from dialog\n",
    "            return \"Error: Datetime string cannot be empty.\"\n",
    "        dt_object = datetime.datetime.strptime(datetime_str, datetime_format)\n",
    "        return str(int(dt_object.timestamp()))\n",
    "    except ValueError:\n",
    "        return (f\"Error: Invalid datetime string or format. \"\n",
    "                f\"Please use the format: {datetime_format} (e.g., 2023-10-26 14:30:00)\")\n",
    "    except TypeError: # Catches if datetime_str is None\n",
    "        return \"Error: Datetime string must be a valid string.\""
   ]
  },
  {
   "cell_type": "markdown",
   "id": "1d98b465",
   "metadata": {},
   "source": [
    "## 3. Main Application GUI Logic\n",
    "\n",
    "The `main()` function orchestrates the user interaction using `tkinter` dialogs."
   ]
  },
  {
   "cell_type": "code",
   "execution_count": 4,
   "id": "03e09fe6",
   "metadata": {},
   "outputs": [],
   "source": [
    "def main():\n",
    "    \"\"\"\n",
    "    Main function to run the Epoch converter program with a simple GUI.\n",
    "    \"\"\"\n",
    "    try:\n",
    "        # Create a root window but hide it, as we are only using dialogs\n",
    "        root = tkinter.Tk()\n",
    "        root.withdraw() # Hide the main window\n",
    "\n",
    "        # Ask user for the type of conversion\n",
    "        choice_prompt = \"Choose conversion type:\\n\\n\" \\\n",
    "                        \"1. Epoch to Datetime\\n\" \\\n",
    "                        \"2. Datetime to Epoch\\n\\n\" \\\n",
    "                        \"Enter 1 or 2:\"\n",
    "        user_choice = simpledialog.askstring(\"Conversion Type\", choice_prompt, parent=root)\n",
    "\n",
    "        if user_choice == '1':\n",
    "            epoch_input = simpledialog.askstring(\"Input Epoch\", \"Enter Epoch timestamp:\", parent=root)\n",
    "            if epoch_input is not None: # User provided input (didn't cancel)\n",
    "                result = epoch_to_datetime(epoch_input)\n",
    "                if result.startswith(\"Error:\"):\n",
    "                    messagebox.showerror(\"Conversion Error\", result, parent=root)\n",
    "                else:\n",
    "                    messagebox.showinfo(\"Converted Datetime\", f\"Human-readable time: {result}\", parent=root)\n",
    "            else:\n",
    "                messagebox.showinfo(\"Cancelled\", \"Operation cancelled by user.\", parent=root)\n",
    "\n",
    "        elif user_choice == '2':\n",
    "            datetime_input = simpledialog.askstring(\"Input Datetime\",\n",
    "                                                    \"Enter datetime string (format YYYY-MM-DD HH:MM:SS):\",\n",
    "                                                    parent=root)\n",
    "            if datetime_input is not None: # User provided input (didn't cancel)\n",
    "                # Using default format, could be extended to ask for format too\n",
    "                result = datetime_to_epoch(datetime_input)\n",
    "                if result.startswith(\"Error:\"):\n",
    "                    messagebox.showerror(\"Conversion Error\", result, parent=root)\n",
    "                else:\n",
    "                    messagebox.showinfo(\"Converted Epoch\", f\"Epoch timestamp: {result}\", parent=root)\n",
    "            else:\n",
    "                messagebox.showinfo(\"Cancelled\", \"Operation cancelled by user.\", parent=root)\n",
    "\n",
    "        elif user_choice is None: # User cancelled the first dialog\n",
    "            messagebox.showinfo(\"Cancelled\", \"Operation cancelled by user.\", parent=root)\n",
    "        else:\n",
    "            messagebox.showerror(\"Invalid Choice\", \"Invalid choice. Please run again and enter 1 or 2.\", parent=root)\n",
    "\n",
    "        # No need for root.mainloop() if we are just using dialogs and then exiting.\n",
    "        # If we had a persistent main window, we would need it.\n",
    "        # Ensure the root window is destroyed to allow kernel to finish if it's the last operation.\n",
    "        root.destroy()\n",
    "        \n",
    "    except tkinter.TclError as e:\n",
    "        print(f\"A tkinter error occurred: {e}\")\n",
    "        print(\"This program uses tkinter for its GUI.\")\n",
    "        print(\"If you are running this in an environment without a display server (e.g., a plain terminal or some cloud Jupyter environments), the GUI might not work.\")\n",
    "        print(\"Try running it on a local machine with a graphical display or a Jupyter environment that supports tkinter pop-ups.\")\n",
    "    except Exception as e:\n",
    "        print(f\"An unexpected error occurred: {e}\")"
   ]
  },
  {
   "cell_type": "markdown",
   "id": "52ba695d",
   "metadata": {},
   "source": [
    "## 4. Running the Application\n",
    "\n",
    "The following cell will execute the `main()` function, which launches the GUI dialogs.\n",
    "\n",
    "**Note on `tkinter` in Jupyter Notebooks:**\n",
    "- If you are running this notebook in a local Jupyter environment (Jupyter Lab or Jupyter Notebook) on a machine with a graphical display (X11, Wayland, macOS Aqua, Windows), `tkinter` dialogs should pop up as expected.\n",
    "- If you are in an environment without a display (e.g., a remote server accessed via SSH without X11 forwarding, or some cloud-based notebook platforms like Google Colab by default), `tkinter` will likely fail to initialize a display, and you might see a `TclError`. The `try-except` block in `main()` attempts to catch this and print a helpful message.\n",
    "- After the dialogs are closed or the operation is cancelled, the `root` window is destroyed. If this is the last cell running, the notebook kernel might show as busy until `root.destroy()` is called or it times out."
   ]
  },
  {
   "cell_type": "code",
   "execution_count": 5,
   "id": "ff474e63",
   "metadata": {},
   "outputs": [
    {
     "name": "stdout",
     "output_type": "stream",
     "text": [
      "GUI execution finished or was cancelled.\n"
     ]
    }
   ],
   "source": [
    "if __name__ == \"__main__\":\n",
    "    # In a notebook, __name__ is usually '__main__' when a cell is run directly.\n",
    "    # However, to ensure it behaves like a script, we can call main() directly.\n",
    "    main()\n",
    "    print(\"GUI execution finished or was cancelled.\") # To show cell completion in notebook"
   ]
  },
  {
   "cell_type": "markdown",
   "id": "9641d7fd",
   "metadata": {},
   "source": [
    "### Testing the core logic without GUI (Optional)\n",
    "\n",
    "If you cannot run the GUI, you can still test the conversion functions directly:"
   ]
  },
  {
   "cell_type": "code",
   "execution_count": 6,
   "id": "9b4d496f",
   "metadata": {},
   "outputs": [
    {
     "name": "stdout",
     "output_type": "stream",
     "text": [
      "Epoch 1603720800 -> Datetime: 2020-10-26 22:00:00\n",
      "Epoch string \"1603720800.55\" -> Datetime: 2020-10-26 22:00:00\n",
      "Invalid Epoch \"not_an_epoch\" -> Result: Error: Invalid Epoch time. Please enter a valid number (e.g., 1603720800).\n",
      "Datetime \"2020-10-26 14:00:00\" -> Epoch: 1603692000\n",
      "Invalid Datetime \"2020/10/26 14:00:00\" -> Result: Error: Invalid datetime string or format. Please use the format: %Y-%m-%d %H:%M:%S (e.g., 2023-10-26 14:30:00)\n",
      "Empty Datetime -> Result: Error: Datetime string cannot be empty.\n"
     ]
    }
   ],
   "source": [
    "# Example: Epoch to Datetime\n",
    "test_epoch = 1603720800\n",
    "print(f\"Epoch {test_epoch} -> Datetime: {epoch_to_datetime(test_epoch)}\")\n",
    "\n",
    "test_epoch_str = \"1603720800.55\"\n",
    "print(f\"Epoch string \\\"{test_epoch_str}\\\" -> Datetime: {epoch_to_datetime(test_epoch_str)}\")\n",
    "\n",
    "test_invalid_epoch = \"not_an_epoch\"\n",
    "print(f\"Invalid Epoch \\\"{test_invalid_epoch}\\\" -> Result: {epoch_to_datetime(test_invalid_epoch)}\")\n",
    "\n",
    "# Example: Datetime to Epoch\n",
    "test_datetime_str = \"2020-10-26 14:00:00\"\n",
    "print(f\"Datetime \\\"{test_datetime_str}\\\" -> Epoch: {datetime_to_epoch(test_datetime_str)}\")\n",
    "\n",
    "test_invalid_datetime = \"2020/10/26 14:00:00\"\n",
    "print(f\"Invalid Datetime \\\"{test_invalid_datetime}\\\" -> Result: {datetime_to_epoch(test_invalid_datetime)}\")\n",
    "\n",
    "test_empty_datetime = \"\"\n",
    "print(f\"Empty Datetime -> Result: {datetime_to_epoch(test_empty_datetime)}\")"
   ]
  },
  {
   "cell_type": "markdown",
   "id": "35dc3276",
   "metadata": {},
   "source": [
    "# Author's Message\n",
    "\n",
    "## Situation\n",
    "I noticed that many users, including myself, often need to convert between Epoch/Unix timestamps and human-readable dates, especially when working with logs or APIs. The lack of a simple, interactive tool for this task inspired me to create this project.\n",
    "\n",
    "## Task\n",
    "My goal was to build a user-friendly, cross-platform utility in Python that could handle these conversions both with a GUI and programmatically, making it accessible for a wide range of users.\n",
    "\n",
    "## Action\n",
    "I designed the notebook to separate the core conversion logic from the user interface, using Python's `datetime` and `tkinter` libraries. I documented each function, provided clear usage instructions, and included error handling for common mistakes. To ensure accessibility, I added both GUI dialogs and direct function tests. I leveraged AI tools like GitHub Copilot to help generate boilerplate code and brainstorm error handling strategies, but I carefully reviewed, tested, and refined all AI-generated suggestions to ensure they met my standards and the project's needs.\n",
    "\n",
    "## Result\n",
    "The final notebook is easy to use, well-documented, and robust against invalid input. It can be run in different environments and serves as both a practical tool and a learning resource. Through this project, I improved my skills in GUI design, documentation, and critical evaluation of AI-assisted code. I plan to keep refining this notebook as I learn more and receive feedback.\n",
    "\n",
    "---\n",
    "\n",
    "**Joem Bolinas**  \n",
    "May 10, 2025"
   ]
  }
 ],
 "metadata": {
  "kernelspec": {
   "display_name": "Python 3",
   "language": "python",
   "name": "python3"
  },
  "language_info": {
   "codemirror_mode": {
    "name": "ipython",
    "version": 3
   },
   "file_extension": ".py",
   "mimetype": "text/x-python",
   "name": "python",
   "nbconvert_exporter": "python",
   "pygments_lexer": "ipython3",
   "version": "3.13.1"
  }
 },
 "nbformat": 4,
 "nbformat_minor": 5
}
