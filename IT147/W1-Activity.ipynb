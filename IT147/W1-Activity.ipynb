{
 "cells": [
  {
   "cell_type": "code",
   "execution_count": 1,
   "id": "06455aa3-9fea-4804-9f3f-50276040c7c5",
   "metadata": {},
   "outputs": [],
   "source": [
    "import tkinter as tk\n",
    "from tkinter import filedialog\n",
    "from tkinter import scrolledtext\n",
    "from tkinter import messagebox\n",
    "\n",
    "def open_file():\n",
    "    file_path = filedialog.askopenfilename(defaultextension=\".txt\",\n",
    "                                           filetypes=[(\"Text Files\", \"*.txt\"), (\"All Files\", \"*.*\")])\n",
    "    if file_path:\n",
    "        try:\n",
    "            with open(file_path, 'r') as file:\n",
    "                content = file.read()\n",
    "                text_area.config(state=tk.NORMAL)\n",
    "                text_area.delete('1.0', tk.END)\n",
    "                text_area.insert(tk.END, content)\n",
    "                text_area.config(state=tk.DISABLED)\n",
    "        except Exception as e:\n",
    "            messagebox.showerror(\"Error\", f\"Could not open file:\\n{e}\")\n",
    "\n",
    "def search_keyword():\n",
    "    keyword = keyword_entry.get()\n",
    "    if keyword:\n",
    "        text_area.tag_remove(\"highlight\", '1.0', tk.END)\n",
    "        content = text_area.get('1.0', tk.END)\n",
    "        start_index = '1.0'\n",
    "        while True:\n",
    "            start_index = text_area.search(keyword, start_index, stopindex=tk.END, nocase=True)\n",
    "            if not start_index:\n",
    "                break\n",
    "            end_index = f\"{start_index}+{len(keyword)}c\"\n",
    "            text_area.tag_add(\"highlight\", start_index, end_index)\n",
    "            start_index = end_index\n",
    "        text_area.tag_config(\"highlight\", background=\"yellow\")\n",
    "\n",
    "window = tk.Tk()\n",
    "window.title(\"File Reader and Keyword Search\")\n",
    "\n",
    "open_button = tk.Button(window, text=\"Open File\", command=open_file)\n",
    "open_button.pack(pady=10)\n",
    "\n",
    "text_area = scrolledtext.ScrolledText(window, wrap=tk.WORD, width=80, height=20)\n",
    "text_area.pack(padx=10, pady=10)\n",
    "text_area.config(state=tk.DISABLED)\n",
    "\n",
    "keyword_label = tk.Label(window, text=\"Enter Keyword:\")\n",
    "keyword_label.pack(pady=5)\n",
    "\n",
    "keyword_entry = tk.Entry(window)\n",
    "keyword_entry.pack(padx=10, pady=5)\n",
    "\n",
    "search_button = tk.Button(window, text=\"Search\", command=search_keyword)\n",
    "search_button.pack(pady=10)\n",
    "\n",
    "window.mainloop()"
   ]
  },
  {
   "cell_type": "code",
   "execution_count": null,
   "id": "2c877370-460d-4856-bb6f-55b4b3205f7e",
   "metadata": {},
   "outputs": [],
   "source": []
  }
 ],
 "metadata": {
  "kernelspec": {
   "display_name": "Python 3",
   "language": "python",
   "name": "python3"
  },
  "language_info": {
   "codemirror_mode": {
    "name": "ipython",
    "version": 3
   },
   "file_extension": ".py",
   "mimetype": "text/x-python",
   "name": "python",
   "nbconvert_exporter": "python",
   "pygments_lexer": "ipython3",
   "version": "3.13.1"
  }
 },
 "nbformat": 4,
 "nbformat_minor": 5
}
